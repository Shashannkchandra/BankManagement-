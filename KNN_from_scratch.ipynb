{
  "nbformat": 4,
  "nbformat_minor": 0,
  "metadata": {
    "colab": {
      "provenance": [],
      "authorship_tag": "ABX9TyNEq+ns7VXZU+8lzI7htbH3",
      "include_colab_link": true
    },
    "kernelspec": {
      "name": "python3",
      "display_name": "Python 3"
    },
    "language_info": {
      "name": "python"
    }
  },
  "cells": [
    {
      "cell_type": "markdown",
      "metadata": {
        "id": "view-in-github",
        "colab_type": "text"
      },
      "source": [
        "<a href=\"https://colab.research.google.com/github/Shashannkchandra/BankManagement-/blob/main/KNN_from_scratch.ipynb\" target=\"_parent\"><img src=\"https://colab.research.google.com/assets/colab-badge.svg\" alt=\"Open In Colab\"/></a>"
      ]
    },
    {
      "cell_type": "code",
      "execution_count": 128,
      "metadata": {
        "id": "_BcJ2UfiaM60"
      },
      "outputs": [],
      "source": [
        "import pandas as pd\n",
        "import numpy as np\n",
        "from sklearn.preprocessing import LabelEncoder\n",
        "from sklearn.preprocessing import StandardScaler\n",
        "from sklearn.model_selection import train_test_split\n",
        "from sklearn.neighbors import KNeighborsClassifier\n",
        "from sklearn.metrics import accuracy_score\n",
        "from collections import Counter"
      ]
    },
    {
      "cell_type": "code",
      "source": [
        "df = pd.read_csv('Social_Network_Ads.csv')\n",
        "df = df.iloc[:, 1:]\n",
        "encoder = LabelEncoder()\n",
        "df['Gender'] = encoder.fit_transform(df['Gender'])\n",
        "scaler = StandardScaler()\n",
        "\n",
        "X = df.iloc[:, 0:3].values\n",
        "X = scaler.fit_transform(X)\n",
        "y = df.iloc[:,-1].values\n",
        "\n",
        "X_train, X_test, y_train, y_test = train_test_split(X, y, test_size=0.2, random_state = None)\n",
        "\n",
        "knn = KNeighborsClassifier(n_neighbors=5)\n",
        "\n",
        "knn.fit(X_train, y_train)\n",
        "\n",
        "y_pred = knn.predict(X_test)\n",
        "\n",
        "print(accuracy_score(y_test, y_pred))"
      ],
      "metadata": {
        "colab": {
          "base_uri": "https://localhost:8080/"
        },
        "id": "0QLbxZhYau6i",
        "outputId": "238311e4-75b3-476a-f14c-5f832d6aabe8"
      },
      "execution_count": 140,
      "outputs": [
        {
          "output_type": "stream",
          "name": "stdout",
          "text": [
            "0.925\n"
          ]
        }
      ]
    },
    {
      "cell_type": "markdown",
      "source": [
        "#### **Now, we will implement a class for KNN form scratch**"
      ],
      "metadata": {
        "id": "-iUGq6ZFirIJ"
      }
    },
    {
      "cell_type": "code",
      "source": [
        "class Knn:\n",
        "\n",
        "  def __init__(self, k=5):\n",
        "    self.n_neighbors = k\n",
        "    self.X_train = None\n",
        "    self.y_train = None\n",
        "\n",
        "  def fit(self, X_train, y_train):\n",
        "    self.X_train = X_train\n",
        "    self.y_train = y_train\n",
        "\n",
        "  def predict(self, X_test):\n",
        "\n",
        "    y_pred = []\n",
        "\n",
        "\n",
        "    for i in X_test:\n",
        "      # calculate distance with each training point\n",
        "      distances = []\n",
        "      for j in self.X_train:\n",
        "        distances.append(self.calculate_distance(i, j))\n",
        "      n_neighbors = sorted(list(enumerate(distances)), key = lambda x:x[1])[0:self.n_neighbors] # enumerate se X_train ke konsa point use ho rha distance nikalne me uska index store ho rha\n",
        "      label = self.majority_count(n_neighbors)\n",
        "      y_pred.append(label)\n",
        "    return np.array(y_pred)\n",
        "\n",
        "  def calculate_distance(self, point_A, point_B):\n",
        "    return np.linalg.norm(point_A - point_B) # ye distances calculate kar rha, 2 points ke beech ka\n",
        "\n",
        "  def majority_count(self, neighbors):\n",
        "    votes = []\n",
        "    for i in neighbors:\n",
        "      votes.append(self.y_train[i[0]])\n",
        "    votes = Counter(votes)\n",
        "\n",
        "    return votes.most_common()[0][0]"
      ],
      "metadata": {
        "id": "3ydFDNz0avKc"
      },
      "execution_count": 135,
      "outputs": []
    },
    {
      "cell_type": "code",
      "source": [
        "apnaKnn = Knn(k=5)\n",
        "apnaKnn.fit(X_train, y_train)\n",
        "y_pred1 = apnaKnn.predict(X_test)\n",
        "print(accuracy_score(y_test, y_pred1))"
      ],
      "metadata": {
        "colab": {
          "base_uri": "https://localhost:8080/"
        },
        "id": "bikreXKsavP6",
        "outputId": "db63055a-a4d4-4685-e2bd-538e3ca875d0"
      },
      "execution_count": 141,
      "outputs": [
        {
          "output_type": "stream",
          "name": "stdout",
          "text": [
            "0.925\n"
          ]
        }
      ]
    },
    {
      "cell_type": "code",
      "source": [],
      "metadata": {
        "id": "m56qvb1GavU4"
      },
      "execution_count": null,
      "outputs": []
    },
    {
      "cell_type": "code",
      "source": [],
      "metadata": {
        "id": "cbfCImBIavXx"
      },
      "execution_count": null,
      "outputs": []
    }
  ]
}